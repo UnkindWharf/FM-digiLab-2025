{
 "cells": [
  {
   "cell_type": "code",
   "execution_count": 16,
   "metadata": {},
   "outputs": [
    {
     "data": {
      "text/plain": [
       "(8, 100000)"
      ]
     },
     "execution_count": 16,
     "metadata": {},
     "output_type": "execute_result"
    }
   ],
   "source": [
    "import numpy as np\n",
    "\n",
    "data = np.load(\"/Users/huylenguyen/digiLab/FM-digiLab-2025/data/raw/pipe01/set09/clean01_1931.npy\")\n",
    "data.shape"
   ]
  },
  {
   "cell_type": "code",
   "execution_count": 3,
   "metadata": {},
   "outputs": [
    {
     "name": "stdout",
     "output_type": "stream",
     "text": [
      "448\n"
     ]
    },
    {
     "data": {
      "text/html": [
       "<div>\n",
       "<style scoped>\n",
       "    .dataframe tbody tr th:only-of-type {\n",
       "        vertical-align: middle;\n",
       "    }\n",
       "\n",
       "    .dataframe tbody tr th {\n",
       "        vertical-align: top;\n",
       "    }\n",
       "\n",
       "    .dataframe thead th {\n",
       "        text-align: right;\n",
       "    }\n",
       "</style>\n",
       "<table border=\"1\" class=\"dataframe\">\n",
       "  <thead>\n",
       "    <tr style=\"text-align: right;\">\n",
       "      <th></th>\n",
       "      <th>filename_signal</th>\n",
       "      <th>filename_baseline</th>\n",
       "      <th>label</th>\n",
       "      <th>temperature_diff</th>\n",
       "      <th>temperature</th>\n",
       "      <th>0</th>\n",
       "      <th>1</th>\n",
       "      <th>2</th>\n",
       "      <th>3</th>\n",
       "      <th>4</th>\n",
       "      <th>...</th>\n",
       "      <th>99990</th>\n",
       "      <th>99991</th>\n",
       "      <th>99992</th>\n",
       "      <th>99993</th>\n",
       "      <th>99994</th>\n",
       "      <th>99995</th>\n",
       "      <th>99996</th>\n",
       "      <th>99997</th>\n",
       "      <th>99998</th>\n",
       "      <th>99999</th>\n",
       "    </tr>\n",
       "  </thead>\n",
       "  <tbody>\n",
       "    <tr>\n",
       "      <th>0</th>\n",
       "      <td>/Users/huylenguyen/digiLab/FM-digiLab-2025/dat...</td>\n",
       "      <td>/Users/huylenguyen/digiLab/FM-digiLab-2025/dat...</td>\n",
       "      <td>1</td>\n",
       "      <td>-1.49</td>\n",
       "      <td>17.16</td>\n",
       "      <td>-112931.661255</td>\n",
       "      <td>-112901.702602</td>\n",
       "      <td>-112871.485511</td>\n",
       "      <td>-112840.317123</td>\n",
       "      <td>-112808.640235</td>\n",
       "      <td>...</td>\n",
       "      <td>-16935.123350</td>\n",
       "      <td>-17041.495555</td>\n",
       "      <td>-17147.716537</td>\n",
       "      <td>-17253.892551</td>\n",
       "      <td>-17359.869603</td>\n",
       "      <td>-17465.053408</td>\n",
       "      <td>-17569.830919</td>\n",
       "      <td>-17674.628320</td>\n",
       "      <td>-17779.287155</td>\n",
       "      <td>-17883.576140</td>\n",
       "    </tr>\n",
       "    <tr>\n",
       "      <th>1</th>\n",
       "      <td>/Users/huylenguyen/digiLab/FM-digiLab-2025/dat...</td>\n",
       "      <td>/Users/huylenguyen/digiLab/FM-digiLab-2025/dat...</td>\n",
       "      <td>1</td>\n",
       "      <td>-1.28</td>\n",
       "      <td>17.16</td>\n",
       "      <td>-43987.817309</td>\n",
       "      <td>-43984.648832</td>\n",
       "      <td>-43981.154337</td>\n",
       "      <td>-43976.458186</td>\n",
       "      <td>-43971.119759</td>\n",
       "      <td>...</td>\n",
       "      <td>10960.846149</td>\n",
       "      <td>11766.482935</td>\n",
       "      <td>12559.021160</td>\n",
       "      <td>13331.996305</td>\n",
       "      <td>14111.691604</td>\n",
       "      <td>15052.423825</td>\n",
       "      <td>16053.129304</td>\n",
       "      <td>16970.736600</td>\n",
       "      <td>17867.943144</td>\n",
       "      <td>18860.812017</td>\n",
       "    </tr>\n",
       "    <tr>\n",
       "      <th>2</th>\n",
       "      <td>/Users/huylenguyen/digiLab/FM-digiLab-2025/dat...</td>\n",
       "      <td>/Users/huylenguyen/digiLab/FM-digiLab-2025/dat...</td>\n",
       "      <td>1</td>\n",
       "      <td>0.91</td>\n",
       "      <td>17.16</td>\n",
       "      <td>11133.869910</td>\n",
       "      <td>11124.320818</td>\n",
       "      <td>11114.885595</td>\n",
       "      <td>11105.870468</td>\n",
       "      <td>11097.079844</td>\n",
       "      <td>...</td>\n",
       "      <td>-41454.975206</td>\n",
       "      <td>-41540.412183</td>\n",
       "      <td>-41625.755887</td>\n",
       "      <td>-41711.073572</td>\n",
       "      <td>-41796.269106</td>\n",
       "      <td>-41880.976022</td>\n",
       "      <td>-41965.432886</td>\n",
       "      <td>-42049.899560</td>\n",
       "      <td>-42134.280281</td>\n",
       "      <td>-42218.437563</td>\n",
       "    </tr>\n",
       "    <tr>\n",
       "      <th>3</th>\n",
       "      <td>/Users/huylenguyen/digiLab/FM-digiLab-2025/dat...</td>\n",
       "      <td>/Users/huylenguyen/digiLab/FM-digiLab-2025/dat...</td>\n",
       "      <td>1</td>\n",
       "      <td>-1.39</td>\n",
       "      <td>17.16</td>\n",
       "      <td>-34951.660574</td>\n",
       "      <td>-34954.168716</td>\n",
       "      <td>-34956.241259</td>\n",
       "      <td>-34956.707693</td>\n",
       "      <td>-34956.315828</td>\n",
       "      <td>...</td>\n",
       "      <td>128774.008716</td>\n",
       "      <td>128912.721402</td>\n",
       "      <td>129051.343118</td>\n",
       "      <td>129189.938828</td>\n",
       "      <td>129328.411224</td>\n",
       "      <td>129466.374328</td>\n",
       "      <td>129604.079546</td>\n",
       "      <td>129741.810475</td>\n",
       "      <td>129879.459669</td>\n",
       "      <td>130016.864988</td>\n",
       "    </tr>\n",
       "    <tr>\n",
       "      <th>4</th>\n",
       "      <td>/Users/huylenguyen/digiLab/FM-digiLab-2025/dat...</td>\n",
       "      <td>/Users/huylenguyen/digiLab/FM-digiLab-2025/dat...</td>\n",
       "      <td>1</td>\n",
       "      <td>15.37</td>\n",
       "      <td>17.16</td>\n",
       "      <td>-47120.852063</td>\n",
       "      <td>-47102.468231</td>\n",
       "      <td>-47084.181251</td>\n",
       "      <td>-47066.252112</td>\n",
       "      <td>-47048.514159</td>\n",
       "      <td>...</td>\n",
       "      <td>-147305.810186</td>\n",
       "      <td>-147495.621781</td>\n",
       "      <td>-147685.255229</td>\n",
       "      <td>-147874.836647</td>\n",
       "      <td>-148064.183556</td>\n",
       "      <td>-148252.592837</td>\n",
       "      <td>-148440.522282</td>\n",
       "      <td>-148628.475400</td>\n",
       "      <td>-148816.265181</td>\n",
       "      <td>-149003.619216</td>\n",
       "    </tr>\n",
       "  </tbody>\n",
       "</table>\n",
       "<p>5 rows × 100005 columns</p>\n",
       "</div>"
      ],
      "text/plain": [
       "                                     filename_signal  \\\n",
       "0  /Users/huylenguyen/digiLab/FM-digiLab-2025/dat...   \n",
       "1  /Users/huylenguyen/digiLab/FM-digiLab-2025/dat...   \n",
       "2  /Users/huylenguyen/digiLab/FM-digiLab-2025/dat...   \n",
       "3  /Users/huylenguyen/digiLab/FM-digiLab-2025/dat...   \n",
       "4  /Users/huylenguyen/digiLab/FM-digiLab-2025/dat...   \n",
       "\n",
       "                                   filename_baseline  label  temperature_diff  \\\n",
       "0  /Users/huylenguyen/digiLab/FM-digiLab-2025/dat...      1             -1.49   \n",
       "1  /Users/huylenguyen/digiLab/FM-digiLab-2025/dat...      1             -1.28   \n",
       "2  /Users/huylenguyen/digiLab/FM-digiLab-2025/dat...      1              0.91   \n",
       "3  /Users/huylenguyen/digiLab/FM-digiLab-2025/dat...      1             -1.39   \n",
       "4  /Users/huylenguyen/digiLab/FM-digiLab-2025/dat...      1             15.37   \n",
       "\n",
       "   temperature              0              1              2              3  \\\n",
       "0        17.16 -112931.661255 -112901.702602 -112871.485511 -112840.317123   \n",
       "1        17.16  -43987.817309  -43984.648832  -43981.154337  -43976.458186   \n",
       "2        17.16   11133.869910   11124.320818   11114.885595   11105.870468   \n",
       "3        17.16  -34951.660574  -34954.168716  -34956.241259  -34956.707693   \n",
       "4        17.16  -47120.852063  -47102.468231  -47084.181251  -47066.252112   \n",
       "\n",
       "               4  ...          99990          99991          99992  \\\n",
       "0 -112808.640235  ...  -16935.123350  -17041.495555  -17147.716537   \n",
       "1  -43971.119759  ...   10960.846149   11766.482935   12559.021160   \n",
       "2   11097.079844  ...  -41454.975206  -41540.412183  -41625.755887   \n",
       "3  -34956.315828  ...  128774.008716  128912.721402  129051.343118   \n",
       "4  -47048.514159  ... -147305.810186 -147495.621781 -147685.255229   \n",
       "\n",
       "           99993          99994          99995          99996          99997  \\\n",
       "0  -17253.892551  -17359.869603  -17465.053408  -17569.830919  -17674.628320   \n",
       "1   13331.996305   14111.691604   15052.423825   16053.129304   16970.736600   \n",
       "2  -41711.073572  -41796.269106  -41880.976022  -41965.432886  -42049.899560   \n",
       "3  129189.938828  129328.411224  129466.374328  129604.079546  129741.810475   \n",
       "4 -147874.836647 -148064.183556 -148252.592837 -148440.522282 -148628.475400   \n",
       "\n",
       "           99998          99999  \n",
       "0  -17779.287155  -17883.576140  \n",
       "1   17867.943144   18860.812017  \n",
       "2  -42134.280281  -42218.437563  \n",
       "3  129879.459669  130016.864988  \n",
       "4 -148816.265181 -149003.619216  \n",
       "\n",
       "[5 rows x 100005 columns]"
      ]
     },
     "execution_count": 3,
     "metadata": {},
     "output_type": "execute_result"
    }
   ],
   "source": [
    "import pandas as pd\n",
    "\n",
    "# load training data\n",
    "df_train = pd.read_csv(\"/Users/huylenguyen/digiLab/FM-digiLab-2025/data/processed/pipe01/bss.csv\", index_col=0)\n",
    "print(len(df_train))\n",
    "\n",
    "df_train.head()"
   ]
  },
  {
   "cell_type": "code",
   "execution_count": 19,
   "metadata": {},
   "outputs": [
    {
     "name": "stderr",
     "output_type": "stream",
     "text": [
      "/Users/huylenguyen/digiLab/FM-digiLab-2025/.venv/lib/python3.12/site-packages/sklearn/utils/validation.py:2732: UserWarning: X has feature names, but TruncatedSVD was fitted without feature names\n",
      "  warnings.warn(\n"
     ]
    },
    {
     "data": {
      "text/plain": [
       "array([1, 1, 1, 1, 1, 1, 1, 1, 1, 1, 1, 1, 1, 1, 1, 1, 1, 1, 1, 1, 1, 1,\n",
       "       1, 1, 1, 1, 1, 1, 1, 1, 1, 1, 1, 1, 1, 1, 1, 1, 1, 1, 1, 1, 1, 1,\n",
       "       1, 1, 1, 1, 0, 0, 0, 0, 0, 0, 0, 0, 0, 0, 0, 0, 0, 0, 0, 1, 1, 1,\n",
       "       1, 1, 1, 1, 1, 1, 1, 1, 1, 1, 1, 1, 1, 0, 0, 0, 0, 0, 0, 0, 0, 0,\n",
       "       0, 0, 0, 0, 0, 0, 0, 0, 0, 0, 0, 0, 0, 0, 0, 0, 0, 0, 0, 0, 0, 0,\n",
       "       0, 0, 0, 0, 0, 0, 0, 0, 0, 0, 0, 0, 0, 0, 0, 0, 0, 0, 0, 0, 0, 0,\n",
       "       0, 0, 0, 0, 0, 0, 0, 1, 1, 1, 1, 1, 1, 1, 1, 1, 1, 1, 1, 1, 1, 1,\n",
       "       1, 0, 0, 0, 0, 0, 0, 0, 0, 0, 0, 0, 0, 0, 0, 0, 0, 0, 0, 0, 0, 0,\n",
       "       0, 0, 0, 0, 0, 0, 0, 0, 0, 0, 0, 0, 0, 0, 0, 0, 0, 0, 0, 0, 0, 0,\n",
       "       0, 0, 1, 1, 1, 1, 1, 1, 1, 1, 1, 1, 1, 1, 1, 1, 1, 1, 1, 1, 1, 1,\n",
       "       1, 1, 1, 1, 1, 1, 1, 1, 1, 1, 1, 1, 1, 1, 1, 1, 1, 1, 1, 1, 1, 1,\n",
       "       1, 1, 1, 1, 1, 1, 1, 1, 1, 1, 1, 1, 1, 1, 1, 1, 1, 1, 1, 1, 1, 1,\n",
       "       0, 0, 0, 0, 0, 0, 0, 0, 0, 0, 0, 0, 0, 0, 0, 0, 0, 0, 0, 0, 0, 0,\n",
       "       0, 0, 0, 0, 0, 0, 0, 0, 0, 0, 0, 0, 0, 0, 0, 0, 0, 0, 0, 0, 0, 0,\n",
       "       0, 0, 0, 0, 0, 0, 0, 0, 0, 0, 0, 0, 0, 0, 0, 0, 1, 0, 1, 1, 1, 1,\n",
       "       1, 1, 1, 1, 1, 1, 1, 1, 1, 1, 0, 0, 0, 0, 0, 0, 0, 0, 0, 0, 0, 0,\n",
       "       0, 0, 0, 0, 0, 0, 0, 0, 0, 0, 0, 0, 0, 0, 0, 0, 0, 0, 0, 0, 0, 0,\n",
       "       0, 0, 0, 0, 0, 0, 0, 0, 0, 0, 0, 1, 1, 1, 1, 1, 1, 1, 1, 1, 1, 1,\n",
       "       1, 1, 1, 1, 1, 1, 0, 1, 1, 1, 1, 1, 1, 1, 1, 1, 1, 1, 1, 1, 1, 1,\n",
       "       1, 1, 1, 1, 1, 1, 1, 1, 1, 1, 1, 1, 1, 1, 1, 0, 0, 0, 0, 0, 0, 0,\n",
       "       0, 0, 0, 0, 0, 0, 0, 0])"
      ]
     },
     "execution_count": 19,
     "metadata": {},
     "output_type": "execute_result"
    }
   ],
   "source": [
    "import numpy as np\n",
    "from fm_processor import load_model, load_svd\n",
    "\n",
    "# Run inference on BSS training data\n",
    "svd = load_svd(\"/Users/huylenguyen/digiLab/FM-digiLab-2025/data/processed/pipe01\")\n",
    "model = load_model(\"/Users/huylenguyen/digiLab/FM-digiLab-2025/data/processed/pipe01\")\n",
    "\n",
    "data = df_train[df_train.columns[5:]]\n",
    "data_svd = svd.transform(data)\n",
    "data_input = np.hstack([df_train.temperature.values[:, np.newaxis], data_svd])\n",
    "\n",
    "pred = model.predict(data_input)\n",
    "pred"
   ]
  },
  {
   "cell_type": "code",
   "execution_count": 20,
   "metadata": {},
   "outputs": [
    {
     "data": {
      "image/png": "[encoded data removed]",
      "text/plain": [
       "<Figure size 640x480 with 1 Axes>"
      ]
     },
     "metadata": {},
     "output_type": "display_data"
    },
    {
     "name": "stdout",
     "output_type": "stream",
     "text": [
      "Incorrectly classified BSS samples: 2\n"
     ]
    }
   ],
   "source": [
    "import matplotlib.pyplot as plt\n",
    "\n",
    "plt.plot(pred - df_train.label)\n",
    "plt.ylabel(\"Predicted - Label\")\n",
    "plt.show()\n",
    "\n",
    "print(f\"Incorrectly classified BSS samples: {np.count_nonzero(pred - df_train.label)}\")"
   ]
  },
  {
   "cell_type": "code",
   "execution_count": 21,
   "metadata": {},
   "outputs": [
    {
     "data": {
      "image/png": "[encoded data removed]",
      "text/plain": [
       "<Figure size 640x480 with 1 Axes>"
      ]
     },
     "metadata": {},
     "output_type": "display_data"
    },
    {
     "data": {
      "image/png": "[encoded data removed]",
      "text/plain": [
       "<Figure size 640x480 with 1 Axes>"
      ]
     },
     "metadata": {},
     "output_type": "display_data"
    }
   ],
   "source": [
    "false_positives = np.where((pred - df_train.label) == -1)[0]\n",
    "false_negatives = np.where((pred - df_train.label) == 1)[0]\n",
    "\n",
    "plt.plot(df_train.iloc[false_positives][df_train.columns[5:]].values.T, c=\"k\", alpha=0.05)\n",
    "plt.title(\"False postivites\")\n",
    "plt.show()\n",
    "\n",
    "plt.plot(df_train.iloc[false_negatives][df_train.columns[5:]].values.T, c=\"k\", alpha=0.05)\n",
    "plt.title(\"False negatives\")\n",
    "plt.show()"
   ]
  },
  {
   "cell_type": "code",
   "execution_count": 1,
   "metadata": {},
   "outputs": [
    {
     "name": "stdout",
     "output_type": "stream",
     "text": [
      "defect10_1716.npy: True - 1, True\n",
      "defect05_1769.npy: True - 1, True\n",
      "defect11_1701.npy: True - 1, True\n",
      "clean07_1865.npy: False - 0, True\n",
      "defect09_1726.npy: True - 1, True\n",
      "clean09_1844.npy: False - 0, True\n",
      "clean16_1625.npy: False - 0, True\n",
      "clean08_1855.npy: False - 0, True\n",
      "clean11_79.npy: False - 0, True\n",
      "defect04_1779.npy: True - 1, True\n",
      "clean02_1920.npy: False - 0, True\n",
      "clean06_1876.npy: False - 0, True\n",
      "clean03_1909.npy: False - 0, True\n",
      "defect02_1801.npy: True - 1, True\n",
      "defect03_1791.npy: True - 1, True\n",
      "defect06_1758.npy: True - 1, True\n",
      "defect07_1748.npy: True - 1, True\n",
      "clean13_1658.npy: False - 0, True\n",
      "clean05_1887.npy: False - 0, True\n",
      "clean10_1834.npy: False - 0, True\n",
      "clean12_1668.npy: False - 0, True\n",
      "sticking_1822.npy: True - 1, True\n",
      "clean01_1931.npy: False - 0, True\n",
      "clean04_1899.npy: False - 0, True\n",
      "clean15_1636.npy: False - 0, True\n",
      "defect12_1689.npy: True - 1, True\n",
      "defect01_1812.npy: True - 1, True\n",
      "defect08_1738.npy: True - 1, True\n",
      "clean14_1647.npy: False - 0, True\n"
     ]
    },
    {
     "data": {
      "text/plain": [
       "(np.int64(29), 29)"
      ]
     },
     "execution_count": 1,
     "metadata": {},
     "output_type": "execute_result"
    }
   ],
   "source": [
    "import os\n",
    "from fm_processor import predict_file\n",
    "\n",
    "# Run inference on test data with logic BSS\n",
    "# this is actually just training data because we have no test samples\n",
    "total = 0\n",
    "correct = 0\n",
    "for root, dirs, files in os.walk(\"/Users/huylenguyen/digiLab/FM-digiLab-2025/data/raw/pipe01/set09\"):\n",
    "    for file in files:\n",
    "        if not file.startswith(\".\"):\n",
    "            label = \"clean\" not in file\n",
    "            pred = predict_file(\n",
    "                os.path.join(root, file),\n",
    "                \"/Users/huylenguyen/digiLab/FM-digiLab-2025/data/processed/pipe01\"\n",
    "            )\n",
    "            print(f\"{file}: {label} - {pred}, {label == pred}\")\n",
    "\n",
    "            total += 1\n",
    "            correct += (label==pred)\n",
    "\n",
    "correct, total"
   ]
  },
  {
   "cell_type": "code",
   "execution_count": null,
   "metadata": {},
   "outputs": [],
   "source": []
  }
 ],
 "metadata": {
  "kernelspec": {
   "display_name": ".venv",
   "language": "python",
   "name": "python3"
  },
  "language_info": {
   "codemirror_mode": {
    "name": "ipython",
    "version": 3
   },
   "file_extension": ".py",
   "mimetype": "text/x-python",
   "name": "python",
   "nbconvert_exporter": "python",
   "pygments_lexer": "ipython3",
   "version": "3.12.3"
  }
 },
 "nbformat": 4,
 "nbformat_minor": 2
}
