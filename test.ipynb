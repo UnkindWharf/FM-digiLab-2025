{
 "cells": [
  {
   "cell_type": "code",
   "execution_count": 1,
   "metadata": {},
   "outputs": [],
   "source": [
    "from fm_processor import preprocess_data\n",
    "\n",
    "data_dirs = [\n",
    "    \"/Users/huylenguyen/digiLab/FM-digiLab-2025/data/raw/pipe01\"\n",
    "]\n",
    "\n",
    "df_data = preprocess_data(data_dirs, \"/Users/huylenguyen/digiLab/FM-digiLab-2025/data/processed\")"
   ]
  },
  {
   "cell_type": "code",
   "execution_count": 2,
   "metadata": {},
   "outputs": [],
   "source": [
    "import dill\n",
    "\n",
    "with open(\"/Users/huylenguyen/digiLab/FM-digiLab-2025/data/processed/svd.pkl\", \"rb\") as file:\n",
    "    svd = dill.load(file)"
   ]
  },
  {
   "cell_type": "code",
   "execution_count": null,
   "metadata": {},
   "outputs": [
    {
     "data": {
      "text/plain": [
       "0      /Users/huylenguyen/digiLab/FM-digiLab-2025/dat...\n",
       "1      /Users/huylenguyen/digiLab/FM-digiLab-2025/dat...\n",
       "2      /Users/huylenguyen/digiLab/FM-digiLab-2025/dat...\n",
       "3      /Users/huylenguyen/digiLab/FM-digiLab-2025/dat...\n",
       "4      /Users/huylenguyen/digiLab/FM-digiLab-2025/dat...\n",
       "                             ...                        \n",
       "411    /Users/huylenguyen/digiLab/FM-digiLab-2025/dat...\n",
       "412    /Users/huylenguyen/digiLab/FM-digiLab-2025/dat...\n",
       "413    /Users/huylenguyen/digiLab/FM-digiLab-2025/dat...\n",
       "414    /Users/huylenguyen/digiLab/FM-digiLab-2025/dat...\n",
       "415    /Users/huylenguyen/digiLab/FM-digiLab-2025/dat...\n",
       "Name: filename_signal, Length: 416, dtype: object"
      ]
     },
     "execution_count": 4,
     "metadata": {},
     "output_type": "execute_result"
    }
   ],
   "source": [
    "import pandas as pd\n",
    "\n",
    "pd.read_csv(\"/Users/huylenguyen/digiLab/FM-digiLab-2025/data/processed/bss_svd.csv\", index_col=0)"
   ]
  },
  {
   "cell_type": "code",
   "execution_count": null,
   "metadata": {},
   "outputs": [],
   "source": []
  }
 ],
 "metadata": {
  "kernelspec": {
   "display_name": ".venv",
   "language": "python",
   "name": "python3"
  },
  "language_info": {
   "codemirror_mode": {
    "name": "ipython",
    "version": 3
   },
   "file_extension": ".py",
   "mimetype": "text/x-python",
   "name": "python",
   "nbconvert_exporter": "python",
   "pygments_lexer": "ipython3",
   "version": "3.12.3"
  }
 },
 "nbformat": 4,
 "nbformat_minor": 2
}
