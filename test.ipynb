{
 "cells": [
  {
   "cell_type": "code",
   "execution_count": 1,
   "metadata": {},
   "outputs": [],
   "source": [
    "from fm_processor import preprocess_data"
   ]
  },
  {
   "cell_type": "code",
   "execution_count": 2,
   "metadata": {},
   "outputs": [],
   "source": [
    "data_dirs = [\"/Users/huylenguyen/digiLab/FM-digiLab-2025/data/raw/test\"]\n",
    "\n",
    "df_data = preprocess_data(data_dirs, \"/Users/huylenguyen/digiLab/FM-digiLab-2025/data/processed\")"
   ]
  },
  {
   "cell_type": "code",
   "execution_count": 3,
   "metadata": {},
   "outputs": [],
   "source": [
    "import dill\n",
    "\n",
    "with open(\"/Users/huylenguyen/digiLab/FM-digiLab-2025/data/processed/svd.pkl\", \"rb\") as file:\n",
    "    svd = dill.load(file)"
   ]
  },
  {
   "cell_type": "code",
   "execution_count": 4,
   "metadata": {},
   "outputs": [
    {
     "data": {
      "text/html": [
       "<div>\n",
       "<style scoped>\n",
       "    .dataframe tbody tr th:only-of-type {\n",
       "        vertical-align: middle;\n",
       "    }\n",
       "\n",
       "    .dataframe tbody tr th {\n",
       "        vertical-align: top;\n",
       "    }\n",
       "\n",
       "    .dataframe thead th {\n",
       "        text-align: right;\n",
       "    }\n",
       "</style>\n",
       "<table border=\"1\" class=\"dataframe\">\n",
       "  <thead>\n",
       "    <tr style=\"text-align: right;\">\n",
       "      <th></th>\n",
       "      <th>filename_signal</th>\n",
       "      <th>filename_baseline</th>\n",
       "      <th>label</th>\n",
       "      <th>temperature</th>\n",
       "      <th>0</th>\n",
       "      <th>1</th>\n",
       "    </tr>\n",
       "  </thead>\n",
       "  <tbody>\n",
       "    <tr>\n",
       "      <th>0</th>\n",
       "      <td>BIGDEFECT_loc1_64av_WX_A_1000.npy</td>\n",
       "      <td>clean_64av_WX_B_1010.npy</td>\n",
       "      <td>1</td>\n",
       "      <td>-0.1</td>\n",
       "      <td>701.046958</td>\n",
       "      <td>86.744685</td>\n",
       "    </tr>\n",
       "    <tr>\n",
       "      <th>1</th>\n",
       "      <td>BIGDEFECT_loc1_64av_WX_A_1000.npy</td>\n",
       "      <td>clean_64av_WX_A_1020.npy</td>\n",
       "      <td>1</td>\n",
       "      <td>-0.2</td>\n",
       "      <td>739.685718</td>\n",
       "      <td>-66.231479</td>\n",
       "    </tr>\n",
       "    <tr>\n",
       "      <th>2</th>\n",
       "      <td>clean_64av_WX_B_1010.npy</td>\n",
       "      <td>clean_64av_WX_A_1020.npy</td>\n",
       "      <td>0</td>\n",
       "      <td>-0.1</td>\n",
       "      <td>38.638760</td>\n",
       "      <td>-152.976163</td>\n",
       "    </tr>\n",
       "    <tr>\n",
       "      <th>3</th>\n",
       "      <td>clean_64av_WX_A_1020.npy</td>\n",
       "      <td>clean_64av_WX_B_1010.npy</td>\n",
       "      <td>0</td>\n",
       "      <td>0.1</td>\n",
       "      <td>-38.638760</td>\n",
       "      <td>152.976163</td>\n",
       "    </tr>\n",
       "  </tbody>\n",
       "</table>\n",
       "</div>"
      ],
      "text/plain": [
       "                     filename_signal         filename_baseline  label  \\\n",
       "0  BIGDEFECT_loc1_64av_WX_A_1000.npy  clean_64av_WX_B_1010.npy      1   \n",
       "1  BIGDEFECT_loc1_64av_WX_A_1000.npy  clean_64av_WX_A_1020.npy      1   \n",
       "2           clean_64av_WX_B_1010.npy  clean_64av_WX_A_1020.npy      0   \n",
       "3           clean_64av_WX_A_1020.npy  clean_64av_WX_B_1010.npy      0   \n",
       "\n",
       "   temperature           0           1  \n",
       "0         -0.1  701.046958   86.744685  \n",
       "1         -0.2  739.685718  -66.231479  \n",
       "2         -0.1   38.638760 -152.976163  \n",
       "3          0.1  -38.638760  152.976163  "
      ]
     },
     "execution_count": 4,
     "metadata": {},
     "output_type": "execute_result"
    }
   ],
   "source": [
    "import pandas as pd\n",
    "\n",
    "pd.read_csv(\"/Users/huylenguyen/digiLab/FM-digiLab-2025/data/processed/data_svd.csv\", index_col=0)"
   ]
  },
  {
   "cell_type": "code",
   "execution_count": null,
   "metadata": {},
   "outputs": [],
   "source": []
  }
 ],
 "metadata": {
  "kernelspec": {
   "display_name": ".venv",
   "language": "python",
   "name": "python3"
  },
  "language_info": {
   "codemirror_mode": {
    "name": "ipython",
    "version": 3
   },
   "file_extension": ".py",
   "mimetype": "text/x-python",
   "name": "python",
   "nbconvert_exporter": "python",
   "pygments_lexer": "ipython3",
   "version": "3.12.3"
  }
 },
 "nbformat": 4,
 "nbformat_minor": 2
}
